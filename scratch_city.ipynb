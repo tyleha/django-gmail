{
 "metadata": {
  "name": "scratch_city"
 },
 "nbformat": 3,
 "nbformat_minor": 0,
 "worksheets": [
  {
   "cells": [
    {
     "cell_type": "code",
     "collapsed": false,
     "input": [
      "%load_ext autoreload\n",
      "%autoreload 2"
     ],
     "language": "python",
     "metadata": {},
     "outputs": [],
     "prompt_number": 1
    },
    {
     "cell_type": "code",
     "collapsed": false,
     "input": [
      "import sys\n",
      "sys.path.append('C:\\\\Users\\\\Tyler\\\\.ipython\\\\gmail-stats')\n",
      "from imaplib import IMAP4_SSL\n",
      "from datetime import date,timedelta,datetime\n",
      "from email.utils import parsedate, parsedate_tz\n",
      "from pylab import plot_date,show,xticks,date2num\n",
      "from pylab import figure\n",
      "import matplotlib.pyplot as plt\n",
      "import numpy as np\n",
      "\n",
      "from gmail import *\n",
      "import helpers\n",
      "import math"
     ],
     "language": "python",
     "metadata": {},
     "outputs": [],
     "prompt_number": 12
    },
    {
     "cell_type": "code",
     "collapsed": false,
     "input": [
      "def marker_size(num_points):\n",
      "    return 1./(1+ math.exp( (num_points-2700)/500))*6 +6\n"
     ],
     "language": "python",
     "metadata": {},
     "outputs": [
      {
       "output_type": "pyout",
       "prompt_number": 6,
       "text": [
        "6.000013561945788"
       ]
      }
     ],
     "prompt_number": 6
    },
    {
     "cell_type": "code",
     "collapsed": false,
     "input": [
      "#Customizing Variables\n",
      "\n",
      "### HOW FAR BACK? ###\n",
      "daysback = 2300\n",
      "notsince = 0\n",
      "since = (date.today() - timedelta(daysback)).strftime(\"%d-%b-%Y\")\n",
      "before = (date.today() - timedelta(notsince)).strftime(\"%d-%b-%Y\")\n",
      "\n",
      "SEARCH = '(SENTSINCE {si} SENTBEFORE {bf})'.format(si=since, bf=before)\n",
      "BODY = '(BODY.PEEK[TEXT])'\n",
      "ALL_HEADERS = '(BODY.PEEK[HEADER.FIELDS (DATE TO CC FROM SUBJECT)])'\n",
      "DATE = '(BODY.PEEK[HEADER.FIELDS (DATE)])'\n",
      "\n",
      "tyler = GmailAccount(username='tyleha@gmail.com',password='')\n",
      "out = tyler.login()\n",
      "work = GmailAccount(username='thsimulab@gmail.com', password='')\n",
      "out = work.login()"
     ],
     "language": "python",
     "metadata": {},
     "outputs": [],
     "prompt_number": 3
    },
    {
     "cell_type": "code",
     "collapsed": false,
     "input": [
      "#LOAD GMAIL EMAILS\n",
      "received = tyler.load_parse_query(SEARCH, ALL_HEADERS, 'inbox')\n",
      "sent = tyler.load_parse_query(SEARCH, ALL_HEADERS, '[Gmail]/Sent Mail')\n",
      "#LOAD WORK EMAILS\n",
      "received.extend(work.load_parse_query(SEARCH, ALL_HEADERS, 'inbox'))\n",
      "sent.extend(work.load_parse_query(SEARCH, ALL_HEADERS, '[Gmail]/Sent Mail'))\n",
      "\n",
      "#received = helpers.load_pickle('tyler_received_Nov06')\n",
      "#sent = helpers.load_pickle('tyler_sent_Nov06')\n",
      "\n",
      "xr, yr = diurnalCompute(received)\n",
      "xs, ys = diurnalCompute(sent)"
     ],
     "language": "python",
     "metadata": {},
     "outputs": []
    },
    {
     "cell_type": "code",
     "collapsed": false,
     "input": [
      "figure()\n",
      "plot_date(xr, yr, '.', alpha=0.7, color='b', markersize=marker_size(len(xr)))\n",
      "plot_date(xs, ys, '.', alpha=0.7, color='r', markersize=marker_size(len(xs)))\n",
      "legend(('Received','Sent'), numpoints=1)\n",
      "out = plt.setp(plt.xticks()[1], rotation=30)"
     ],
     "language": "python",
     "metadata": {},
     "outputs": [],
     "prompt_number": 7
    },
    {
     "cell_type": "code",
     "collapsed": false,
     "input": [
      "figure()\n",
      "subplot(211)\n",
      "plot_date(xr, yr, '.', alpha=0.7, color='b')\n",
      "title('Received Mail')\n",
      "\n",
      "subplot(212)\n",
      "plot_date(xs, ys, '.', alpha=0.7, color='r', markersize=7)\n",
      "title('Sent Mail')\n",
      "xlabel('Date')\n",
      "ylabel('Time of Day')\n",
      "out = plt.setp(plt.xticks()[1], rotation=30)"
     ],
     "language": "python",
     "metadata": {},
     "outputs": [],
     "prompt_number": 8
    },
    {
     "cell_type": "heading",
     "level": 2,
     "metadata": {},
     "source": [
      "Last thing I was working on was plotting sent emails next to received by top 20 sender"
     ]
    },
    {
     "cell_type": "code",
     "collapsed": false,
     "input": [
      "'''\n",
      "emails_from = gmail.parse_emails('from', data_sent)\n",
      "\n",
      "number_emails = []\n",
      "for address, emails in emails_from.iteritems():\n",
      "    number_emails.append((address, len(emails)))\n",
      "    \n",
      "number_emails = sorted(number_emails, key=itemgetter(1), reverse=True)\n",
      "print number_emails[:10]\n",
      "'''"
     ],
     "language": "python",
     "metadata": {},
     "outputs": [
      {
       "output_type": "pyout",
       "prompt_number": 7,
       "text": [
        "\"\\nemails_from = gmail.parse_emails('from', data_sent)\\n\\nnumber_emails = []\\nfor address, emails in emails_from.iteritems():\\n    number_emails.append((address, len(emails)))\\n    \\nnumber_emails = sorted(number_emails, key=itemgetter(1), reverse=True)\\nprint number_emails[:10]\\n\""
       ]
      }
     ],
     "prompt_number": 7
    },
    {
     "cell_type": "code",
     "collapsed": false,
     "input": [
      "'''\n",
      "fig = plt.figure()\n",
      "ax = plt.subplot(111)\n",
      "\n",
      "senders = [x[1] for x in number_emails[:20]]\n",
      "ind = np.arange(len(senders))\n",
      "rects = ax.bar(ind, senders, width=0.35, color='b')\n",
      "rects2 = ax.bar(ind+0.35, senders, width=0.35, color='g')\n",
      "'''"
     ],
     "language": "python",
     "metadata": {},
     "outputs": [],
     "prompt_number": 20
    },
    {
     "cell_type": "code",
     "collapsed": false,
     "input": [],
     "language": "python",
     "metadata": {},
     "outputs": [
      {
       "output_type": "pyout",
       "prompt_number": 17,
       "text": [
        "[0, 1, 2, 3, 4, 5, 6, 7, 8, 9]"
       ]
      }
     ],
     "prompt_number": 17
    },
    {
     "cell_type": "code",
     "collapsed": false,
     "input": [
      "figure(figsize=(20,8))\n",
      "plot_date(xd_r,yt_r,'.',alpha=.7, color='b')\n",
      "figure(figsize=(20,8))\n",
      "plot_date(xd_s,yt_s,'.',alpha=.7, color='r')\n",
      "figure(figsize=(20,8))\n",
      "plot_date(xd_r,yt_r,'.',alpha=.7, color='b')\n",
      "plot_date(xd_s,yt_s,'.',alpha=.7, color='r')\n",
      "xticks(rotation=30)"
     ],
     "language": "python",
     "metadata": {},
     "outputs": []
    },
    {
     "cell_type": "code",
     "collapsed": false,
     "input": [],
     "language": "python",
     "metadata": {},
     "outputs": []
    }
   ],
   "metadata": {}
  }
 ]
}
